{
 "cells": [
  {
   "cell_type": "code",
   "execution_count": 186,
   "metadata": {},
   "outputs": [],
   "source": [
    "import numpy as np\n",
    "import PIL\n",
    "from PIL import Image"
   ]
  },
  {
   "cell_type": "code",
   "execution_count": 187,
   "metadata": {},
   "outputs": [],
   "source": [
    "imageArray = [[1,1,0,1,1,1,0,1],[1,1,0,1,0,1,0,1],[1,1,1,1,0,0,0,1],[0,0,0,0,0,0,0,1],[1,1,1,1,0,1,0,1],[0,0,0,1,0,1,0,1],[1,1,1,1,0,0,0,1],[1,1,1,1,0,1,1,1]]"
   ]
  },
  {
   "cell_type": "code",
   "execution_count": 188,
   "metadata": {},
   "outputs": [
    {
     "name": "stdout",
     "output_type": "stream",
     "text": [
      "[[1, 1, 0, 1, 1, 1, 0, 1], [1, 1, 0, 1, 0, 1, 0, 1], [1, 1, 1, 1, 0, 0, 0, 1], [0, 0, 0, 0, 0, 0, 0, 1], [1, 1, 1, 1, 0, 1, 0, 1], [0, 0, 0, 1, 0, 1, 0, 1], [1, 1, 1, 1, 0, 0, 0, 1], [1, 1, 1, 1, 0, 1, 1, 1]]\n"
     ]
    }
   ],
   "source": [
    "print(imageArray)"
   ]
  },
  {
   "cell_type": "code",
   "execution_count": 189,
   "metadata": {},
   "outputs": [],
   "source": [
    "storeArray = [[0,0,0,0,0,0,0,0],[0,0,0,0,0,0,0,0],[0,0,0,0,0,0,0,0],[0,0,0,0,0,0,0,0],[0,0,0,0,0,0,0,0],[0,0,0,0,0,0,0,0],[0,0,0,0,0,0,0,0],[0,0,0,0,0,0,0,0]]"
   ]
  },
  {
   "cell_type": "code",
   "execution_count": 190,
   "metadata": {},
   "outputs": [
    {
     "name": "stdout",
     "output_type": "stream",
     "text": [
      "[[0, 0, 0, 0, 0, 0, 0, 0], [0, 0, 0, 0, 0, 0, 0, 0], [0, 0, 0, 0, 0, 0, 0, 0], [0, 0, 0, 0, 0, 0, 0, 0], [0, 0, 0, 0, 0, 0, 0, 0], [0, 0, 0, 0, 0, 0, 0, 0], [0, 0, 0, 0, 0, 0, 0, 0], [0, 0, 0, 0, 0, 0, 0, 0]]\n",
      "0\n"
     ]
    }
   ],
   "source": [
    "print (storeArray)\n",
    "print(storeArray[0][0])"
   ]
  },
  {
   "cell_type": "code",
   "execution_count": 191,
   "metadata": {},
   "outputs": [
    {
     "name": "stdout",
     "output_type": "stream",
     "text": [
      "8\n"
     ]
    }
   ],
   "source": [
    "label = 1\n",
    "preferences = []\n",
    "Length = len(imageArray)\n",
    "print(Length)\n",
    "for i in range(len(imageArray)):\n",
    "\n",
    "    for j in range(len(imageArray[i])):\n",
    "        if ((i == 0) and (j == 0)):\n",
    "            \n",
    "            if (imageArray[i][j] > 0):\n",
    "                \n",
    "                storeArray[i][j] = label\n",
    "        if ((i==0) and (j > 0)):\n",
    "            if(imageArray[i][j] > 0):\n",
    "                if (imageArray[i][j-1] > 0):\n",
    "                    storeArray[i][j] = label\n",
    "                   \n",
    "                else:\n",
    "                    storeArray[i][j] = label\n",
    "            else:\n",
    "                storeArray[i][j] = 0\n",
    "                label+=1\n",
    "        if(i>0 and j==0):\n",
    "            if(imageArray[i][j]>0):\n",
    "                if(storeArray[i-1][j]>0):\n",
    "                    current_pixel = storeArray[i-1][j]\n",
    "                    storeArray[i][j] = current_pixel\n",
    "                else:\n",
    "                    label+=1\n",
    "                    current_pixel = label\n",
    "                    storeArray[i][j]= current_pixel\n",
    "            else:\n",
    "                storeArray[i][j]=0\n",
    "        if(i>0 and j>0):\n",
    "            if (imageArray[i][j]>0):\n",
    "                if (storeArray[i-1][j]>0 or storeArray[i][j-1]>0):\n",
    "                   \n",
    "                    if(storeArray[i-1][j]==storeArray[i][j-1]):\n",
    "                        \n",
    "                        current_pixel=storeArray[i-1][j]\n",
    "                        \n",
    "                        storeArray[i][j] = current_pixel\n",
    "                    elif (storeArray[i-1][j]<storeArray[i][j-1] and storeArray[i-1][j] !=0):\n",
    "                        \n",
    "                        current_pixel = storeArray[i-1][j]\n",
    "                        storeArray[i][j] = current_pixel\n",
    "                        \n",
    "                        preferences.append((i,j))\n",
    "                    elif (storeArray[i][j-1]<storeArray[i-1][j] and storeArray[i][j-1] !=0):\n",
    "                        \n",
    "                        current_pixel = storeArray[i][j-1]\n",
    "                        storeArray[i][j] = current_pixel\n",
    "                        \n",
    "                        preferences.append((i,j))\n",
    "                    elif (storeArray[i-1][j]<storeArray[i][j-1] and storeArray[i-1][j]==0):\n",
    "                        \n",
    "                        current_pixel = storeArray[i][j-1]\n",
    "                        storeArray[i][j] = current_pixel\n",
    "                        \n",
    "                    else:\n",
    "                        current_pixel = storeArray[i-1][j]\n",
    "                        storeArray[i][j] = current_pixel\n",
    "                        \n",
    "\n",
    "                else:\n",
    "                    label+=1\n",
    "                    current_pixel = label\n",
    "                    storeArray[i][j] = current_pixel\n",
    "            else:\n",
    "                storeArray[i][j] = 0"
   ]
  },
  {
   "cell_type": "code",
   "execution_count": 194,
   "metadata": {},
   "outputs": [
    {
     "name": "stdout",
     "output_type": "stream",
     "text": [
      "[[1, 1, 0, 2, 2, 2, 0, 3], [1, 1, 0, 2, 0, 2, 0, 3], [1, 1, 1, 1, 0, 0, 0, 3], [0, 0, 0, 0, 0, 0, 0, 3], [4, 4, 4, 4, 0, 5, 0, 3], [0, 0, 0, 4, 0, 5, 0, 3], [6, 6, 6, 4, 0, 0, 0, 3], [6, 6, 6, 4, 0, 7, 7, 3]]\n",
      "[(2, 3), (6, 3), (7, 3), (7, 7)]\n"
     ]
    }
   ],
   "source": [
    "\n",
    "print (storeArray)\n",
    "print (preferences)\n"
   ]
  },
  {
   "cell_type": "code",
   "execution_count": 195,
   "metadata": {},
   "outputs": [],
   "source": [
    "def secondPass(current_pix, new_pix):\n",
    "    for i in range(len(imageArray)):\n",
    "        for j in range(len(imageArray[i])):\n",
    "            if(storeArray[i][j] == current_pix):\n",
    "                storeArray[i][j] = new_pix\n",
    "\n",
    "    "
   ]
  },
  {
   "cell_type": "code",
   "execution_count": 196,
   "metadata": {},
   "outputs": [
    {
     "name": "stdout",
     "output_type": "stream",
     "text": [
      "2 3\n",
      "6 3\n",
      "7 3\n",
      "7 7\n"
     ]
    }
   ],
   "source": [
    "newImageArray = []\n",
    "for i in range(len(preferences)):\n",
    "    x,j = preferences[i]\n",
    "    print (x,j)\n",
    "    if ((storeArray[x-1][j]> 0 )and (storeArray[x-1][j] > storeArray[x][j])):\n",
    "        current_pix = storeArray[x-1][j]\n",
    "        new_pix = storeArray[x][j]\n",
    "        secondPass(current_pix, new_pix)\n",
    "    elif (x+1 < len(storeArray) -1):\n",
    "        if ((storeArray[x+1][j]> 0 )and (storeArray[x+1][j] > storeArray[x][j])):\n",
    "            current_pix = storeArray[x+1][j]\n",
    "            new_pix = storeArray[x][j]\n",
    "            secondPass(current_pix, new_pix)\n",
    "    elif ((storeArray[x][j-1]> 0 )and (storeArray[x][j-1] > storeArray[x][j])):\n",
    "        current_pix = storeArray[x][j-1]\n",
    "        new_pix = storeArray[x][j]\n",
    "        secondPass(current_pix, new_pix)\n",
    "    elif (j+1 <len(storeArray[i])-1):\n",
    "        if ((storeArray[x][j+1]> 0 )and (storeArray[x][j+1] > storeArray[x][j])):\n",
    "            current_pix = storeArray[x][j+1]\n",
    "            new_pix = storeArray[x][j]\n",
    "            secondPass(current_pix, new_pix)\n",
    "            \n"
   ]
  },
  {
   "cell_type": "code",
   "execution_count": 197,
   "metadata": {},
   "outputs": [
    {
     "name": "stdout",
     "output_type": "stream",
     "text": [
      "[[1, 1, 0, 1, 1, 1, 0, 3], [1, 1, 0, 1, 0, 1, 0, 3], [1, 1, 1, 1, 0, 0, 0, 3], [0, 0, 0, 0, 0, 0, 0, 3], [4, 4, 4, 4, 0, 5, 0, 3], [0, 0, 0, 4, 0, 5, 0, 3], [4, 4, 4, 4, 0, 0, 0, 3], [4, 4, 4, 4, 0, 3, 3, 3]]\n"
     ]
    }
   ],
   "source": [
    "print(storeArray)"
   ]
  },
  {
   "cell_type": "code",
   "execution_count": 218,
   "metadata": {},
   "outputs": [],
   "source": [
    "import cv2\n",
    "import numpy as np\n",
    "from PIL import Image\n",
    "import sys\n",
    "import math, random\n",
    "from matplotlib import pyplot as plt"
   ]
  },
  {
   "cell_type": "code",
   "execution_count": 219,
   "metadata": {},
   "outputs": [],
   "source": [
    "img = cv2.imread('Lab4-image.png',1)\n",
    "img = cv2.cvtColor(img, cv2.COLOR_BGR2GRAY)\n"
   ]
  },
  {
   "cell_type": "code",
   "execution_count": 220,
   "metadata": {},
   "outputs": [],
   "source": [
    "width, height = img.shape\n",
    "\n",
    "ret,th1 = cv2.threshold(img,127,255,cv2.THRESH_BINARY)"
   ]
  },
  {
   "cell_type": "code",
   "execution_count": 221,
   "metadata": {},
   "outputs": [
    {
     "data": {
      "image/png": "[encoded data removed]",
      "text/plain": [
       "<Figure size 432x288 with 1 Axes>"
      ]
     },
     "metadata": {
      "needs_background": "light"
     },
     "output_type": "display_data"
    }
   ],
   "source": [
    "img = th1\n",
    "plt.imshow(img,'gray')\n",
    "plt.show()"
   ]
  },
  {
   "cell_type": "code",
   "execution_count": 222,
   "metadata": {},
   "outputs": [
    {
     "name": "stdout",
     "output_type": "stream",
     "text": [
      "[[255 255 255 ... 255 255 255]\n",
      " [255 255 255 ... 255 255 255]\n",
      " [255 255 255 ... 255 255 255]\n",
      " ...\n",
      " [255 255 255 ... 255 255 255]\n",
      " [255 255 255 ... 255 255 255]\n",
      " [255 255 255 ... 255 255 255]]\n"
     ]
    }
   ],
   "source": [
    "imageArray = np.array(img)\n",
    "print(imageArray)"
   ]
  },
  {
   "cell_type": "code",
   "execution_count": 223,
   "metadata": {},
   "outputs": [
    {
     "name": "stdout",
     "output_type": "stream",
     "text": [
      "[[0 0 0 ... 0 0 0]\n",
      " [0 0 0 ... 0 0 0]\n",
      " [0 0 0 ... 0 0 0]\n",
      " ...\n",
      " [0 0 0 ... 0 0 0]\n",
      " [0 0 0 ... 0 0 0]\n",
      " [0 0 0 ... 0 0 0]]\n"
     ]
    }
   ],
   "source": [
    "storeArray = [ [0]*height for i in range(width)]\n",
    "\n",
    "        \n",
    "storeArray = np.array(array2)\n",
    "print(np_array2)"
   ]
  },
  {
   "cell_type": "code",
   "execution_count": 224,
   "metadata": {},
   "outputs": [],
   "source": [
    "label = 100 #for visibility\n",
    "preferences = []\n",
    "Length = len(imageArray)\n",
    "\n",
    "for i in range(len(imageArray)):\n",
    "\n",
    "    for j in range(len(imageArray[i])):\n",
    "        if ((i == 0) and (j == 0)):\n",
    "            \n",
    "            if (imageArray[i][j] > 0):\n",
    "                \n",
    "                storeArray[i][j] = label\n",
    "        if ((i==0) and (j > 0)):\n",
    "            if(imageArray[i][j] > 0):\n",
    "                if (imageArray[i][j-1] > 0):\n",
    "                    storeArray[i][j] = label\n",
    "                   \n",
    "                else:\n",
    "                    storeArray[i][j] = label\n",
    "            else:\n",
    "                storeArray[i][j] = 0\n",
    "                label+=1\n",
    "        if(i>0 and j==0):\n",
    "            if(imageArray[i][j]>0):\n",
    "                if(storeArray[i-1][j]>0):\n",
    "                    current_pixel = storeArray[i-1][j]\n",
    "                    storeArray[i][j] = current_pixel\n",
    "                else:\n",
    "                    label+=1\n",
    "                    current_pixel = label\n",
    "                    storeArray[i][j]= current_pixel\n",
    "            else:\n",
    "                storeArray[i][j]=0\n",
    "        if(i>0 and j>0):\n",
    "            if (imageArray[i][j]>0):\n",
    "                if (storeArray[i-1][j]>0 or storeArray[i][j-1]>0):\n",
    "                    \n",
    "                    if(storeArray[i-1][j]==storeArray[i][j-1]):\n",
    "                        \n",
    "                        current_pixel=storeArray[i-1][j]\n",
    "                        \n",
    "                        storeArray[i][j] = current_pixel\n",
    "                    elif (storeArray[i-1][j]<storeArray[i][j-1] and storeArray[i-1][j] !=0):\n",
    "                        \n",
    "                        current_pixel = storeArray[i-1][j]\n",
    "                        storeArray[i][j] = current_pixel\n",
    "                        \n",
    "                        preferences.append((i,j))\n",
    "                    elif (storeArray[i][j-1]<storeArray[i-1][j] and storeArray[i][j-1] !=0):\n",
    "                        \n",
    "                        current_pixel = storeArray[i][j-1]\n",
    "                        storeArray[i][j] = current_pixel\n",
    "                       \n",
    "                        preferences.append((i,j))\n",
    "                    elif (storeArray[i-1][j]<storeArray[i][j-1] and storeArray[i-1][j]==0):\n",
    "                        \n",
    "                        current_pixel = storeArray[i][j-1]\n",
    "                        storeArray[i][j] = current_pixel\n",
    "                        \n",
    "                    else:\n",
    "                        current_pixel = storeArray[i-1][j]\n",
    "                        storeArray[i][j] = current_pixel\n",
    "                        \n",
    "\n",
    "                else:\n",
    "                    label+=1\n",
    "                    current_pixel = label\n",
    "                    storeArray[i][j] = current_pixel\n",
    "            else:\n",
    "                storeArray[i][j] = 0"
   ]
  },
  {
   "cell_type": "code",
   "execution_count": 225,
   "metadata": {},
   "outputs": [],
   "source": [
    "def secondPass(current_pix, new_pix):\n",
    "    for i in range(len(imageArray)):\n",
    "        for j in range(len(imageArray[i])):\n",
    "            if(storeArray[i][j] == current_pix):\n",
    "                storeArray[i][j] = new_pix\n",
    "for i in range(len(preferences)):\n",
    "    x,j = preferences[i]\n",
    "    \n",
    "    if ((storeArray[x-1][j]> 0 )and (storeArray[x-1][j] > storeArray[x][j])):\n",
    "        current_pix = storeArray[x-1][j]\n",
    "        new_pix = storeArray[x][j]\n",
    "        secondPass(current_pix, new_pix)\n",
    "    elif (x+1 < width -1):\n",
    "        if ((storeArray[x+1][j]> 0 )and (storeArray[x+1][j] > storeArray[x][j])):\n",
    "            current_pix = storeArray[x+1][j]\n",
    "            new_pix = storeArray[x][j]\n",
    "            secondPass(current_pix, new_pix)\n",
    "    elif ((storeArray[x][j-1]> 0 )and (storeArray[x][j-1] > storeArray[x][j])):\n",
    "        current_pix = storeArray[x][j-1]\n",
    "        new_pix = storeArray[x][j]\n",
    "        secondPass(current_pix, new_pix)\n",
    "    elif (j+1 <height):\n",
    "        if ((storeArray[x][j+1]> 0 )and (storeArray[x][j+1] > storeArray[x][j])):\n",
    "            current_pix = storeArray[x][j+1]\n",
    "            new_pix = storeArray[x][j]\n",
    "            secondPass(current_pix, new_pix)\n"
   ]
  },
  {
   "cell_type": "code",
   "execution_count": 226,
   "metadata": {},
   "outputs": [
    {
     "data": {
      "text/plain": [
       "True"
      ]
     },
     "execution_count": 226,
     "metadata": {},
     "output_type": "execute_result"
    }
   ],
   "source": [
    "\n",
    "cv2.imwrite('Result.png', storeArray)\n",
    "        "
   ]
  },
  {
   "cell_type": "code",
   "execution_count": 227,
   "metadata": {},
   "outputs": [
    {
     "data": {
      "text/plain": [
       "<matplotlib.image.AxesImage at 0x1a3bcd7ccc0>"
      ]
     },
     "execution_count": 227,
     "metadata": {},
     "output_type": "execute_result"
    },
    {
     "data": {
      "image/png": "[encoded data removed]",
      "text/plain": [
       "<Figure size 432x288 with 1 Axes>"
      ]
     },
     "metadata": {
      "needs_background": "light"
     },
     "output_type": "display_data"
    }
   ],
   "source": [
    "img = cv2.imread('Result.png')\n",
    "plt.imshow(img)"
   ]
  },
  {
   "cell_type": "code",
   "execution_count": null,
   "metadata": {},
   "outputs": [],
   "source": [
    "\n",
    "\n",
    "\n",
    "\n",
    "\n"
   ]
  },
  {
   "cell_type": "code",
   "execution_count": null,
   "metadata": {},
   "outputs": [],
   "source": []
  }
 ],
 "metadata": {
  "kernelspec": {
   "display_name": "Python 3",
   "language": "python",
   "name": "python3"
  },
  "language_info": {
   "codemirror_mode": {
    "name": "ipython",
    "version": 3
   },
   "file_extension": ".py",
   "mimetype": "text/x-python",
   "name": "python",
   "nbconvert_exporter": "python",
   "pygments_lexer": "ipython3",
   "version": "3.7.3"
  }
 },
 "nbformat": 4,
 "nbformat_minor": 2
}
